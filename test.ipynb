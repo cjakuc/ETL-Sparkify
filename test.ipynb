{
 "cells": [
  {
   "cell_type": "code",
   "execution_count": 53,
   "metadata": {},
   "outputs": [],
   "source": [
    "import psycopg2"
   ]
  },
  {
   "cell_type": "code",
   "execution_count": 54,
   "metadata": {},
   "outputs": [],
   "source": [
    "conn = psycopg2.connect(\"host=127.0.0.1 port=5433 dbname=sparkifydb user=student password=student\")\n",
    "cur = conn.cursor()"
   ]
  },
  {
   "cell_type": "code",
   "execution_count": 55,
   "metadata": {},
   "outputs": [
    {
     "output_type": "execute_result",
     "data": {
      "text/plain": [
       "[(12,\n",
       "  datetime.datetime(2018, 11, 2, 1, 25, 34, 796000),\n",
       "  101,\n",
       "  'free',\n",
       "  None,\n",
       "  None,\n",
       "  184,\n",
       "  'New Orleans-Metairie, LA',\n",
       "  '\"Mozilla/5.0 (Windows NT 6.3; WOW64) AppleWebKit/537.36 (KHTML, like Gecko) Chrome/36.0.1985.143 Safari/537.36\"'),\n",
       " (13,\n",
       "  datetime.datetime(2018, 11, 2, 1, 30, 41, 796000),\n",
       "  83,\n",
       "  'free',\n",
       "  None,\n",
       "  None,\n",
       "  82,\n",
       "  'Lubbock, TX',\n",
       "  '\"Mozilla/5.0 (Macintosh; Intel Mac OS X 10_9_4) AppleWebKit/537.36 (KHTML, like Gecko) Chrome/36.0.1985.143 Safari/537.36\"'),\n",
       " (14,\n",
       "  datetime.datetime(2018, 11, 2, 1, 34, 17, 796000),\n",
       "  83,\n",
       "  'free',\n",
       "  None,\n",
       "  None,\n",
       "  82,\n",
       "  'Lubbock, TX',\n",
       "  '\"Mozilla/5.0 (Macintosh; Intel Mac OS X 10_9_4) AppleWebKit/537.36 (KHTML, like Gecko) Chrome/36.0.1985.143 Safari/537.36\"'),\n",
       " (15,\n",
       "  datetime.datetime(2018, 11, 2, 2, 42, 48, 796000),\n",
       "  66,\n",
       "  'free',\n",
       "  None,\n",
       "  None,\n",
       "  153,\n",
       "  'Harrisburg-Carlisle, PA',\n",
       "  '\"Mozilla/5.0 (Macintosh; Intel Mac OS X 10_9_4) AppleWebKit/537.36 (KHTML, like Gecko) Chrome/36.0.1985.125 Safari/537.36\"'),\n",
       " (16,\n",
       "  datetime.datetime(2018, 11, 2, 3, 5, 57, 796000),\n",
       "  48,\n",
       "  'free',\n",
       "  None,\n",
       "  None,\n",
       "  47,\n",
       "  'Salinas, CA',\n",
       "  '\"Mozilla/5.0 (Macintosh; Intel Mac OS X 10_9_4) AppleWebKit/537.36 (KHTML, like Gecko) Chrome/36.0.1985.143 Safari/537.36\"')]"
      ]
     },
     "metadata": {},
     "execution_count": 55
    }
   ],
   "source": [
    "cur.execute('SELECT * FROM songplays ORDER BY songplays.songplay_id ASC LIMIT 5;')\n",
    "results = cur.fetchall()\n",
    "results"
   ]
  },
  {
   "cell_type": "code",
   "execution_count": 56,
   "metadata": {},
   "outputs": [
    {
     "output_type": "execute_result",
     "data": {
      "text/plain": [
       "[(6422,\n",
       "  datetime.datetime(2018, 11, 30, 14, 33, 53, 796000),\n",
       "  101,\n",
       "  'free',\n",
       "  None,\n",
       "  None,\n",
       "  1060,\n",
       "  'New Orleans-Metairie, LA',\n",
       "  '\"Mozilla/5.0 (Windows NT 6.3; WOW64) AppleWebKit/537.36 (KHTML, like Gecko) Chrome/36.0.1985.143 Safari/537.36\"'),\n",
       " (6421,\n",
       "  datetime.datetime(2018, 11, 30, 14, 33, 39, 796000),\n",
       "  49,\n",
       "  'paid',\n",
       "  None,\n",
       "  None,\n",
       "  1096,\n",
       "  'San Francisco-Oakland-Hayward, CA',\n",
       "  'Mozilla/5.0 (Windows NT 5.1; rv:31.0) Gecko/20100101 Firefox/31.0'),\n",
       " (6420,\n",
       "  datetime.datetime(2018, 11, 30, 14, 31, 15, 796000),\n",
       "  85,\n",
       "  'paid',\n",
       "  None,\n",
       "  None,\n",
       "  977,\n",
       "  'Red Bluff, CA',\n",
       "  '\"Mozilla/5.0 (Macintosh; Intel Mac OS X 10_10_0) AppleWebKit/537.36 (KHTML, like Gecko) Chrome/36.0.1985.143 Safari/537.36\"'),\n",
       " (6419,\n",
       "  datetime.datetime(2018, 11, 30, 14, 28, 26, 796000),\n",
       "  49,\n",
       "  'paid',\n",
       "  None,\n",
       "  None,\n",
       "  1096,\n",
       "  'San Francisco-Oakland-Hayward, CA',\n",
       "  'Mozilla/5.0 (Windows NT 5.1; rv:31.0) Gecko/20100101 Firefox/31.0'),\n",
       " (6418,\n",
       "  datetime.datetime(2018, 11, 30, 14, 27, 42, 796000),\n",
       "  85,\n",
       "  'paid',\n",
       "  None,\n",
       "  None,\n",
       "  977,\n",
       "  'Red Bluff, CA',\n",
       "  '\"Mozilla/5.0 (Macintosh; Intel Mac OS X 10_10_0) AppleWebKit/537.36 (KHTML, like Gecko) Chrome/36.0.1985.143 Safari/537.36\"')]"
      ]
     },
     "metadata": {},
     "execution_count": 56
    }
   ],
   "source": [
    "cur.execute('SELECT * FROM songplays ORDER BY songplays.songplay_id DESC LIMIT 5;')\n",
    "results = cur.fetchall()\n",
    "results"
   ]
  },
  {
   "cell_type": "code",
   "execution_count": 57,
   "metadata": {},
   "outputs": [
    {
     "output_type": "execute_result",
     "data": {
      "text/plain": [
       "[(2, 'Jizelle', 'Benjamin', 'F', 'free'),\n",
       " (3, 'Isaac', 'Valdez', 'M', 'free'),\n",
       " (4, 'Alivia', 'Terrell', 'F', 'free'),\n",
       " (5, 'Elijah', 'Davis', 'M', 'free'),\n",
       " (6, 'Cecilia', 'Owens', 'F', 'free')]"
      ]
     },
     "metadata": {},
     "execution_count": 57
    }
   ],
   "source": [
    "cur.execute('SELECT * FROM users ORDER BY users.user_id ASC LIMIT 5;')\n",
    "results = cur.fetchall()\n",
    "results"
   ]
  },
  {
   "cell_type": "code",
   "execution_count": 58,
   "metadata": {},
   "outputs": [
    {
     "output_type": "execute_result",
     "data": {
      "text/plain": [
       "[(101, 'Jayden', 'Fox', 'M', 'free'),\n",
       " (100, 'Adler', 'Barrera', 'M', 'free'),\n",
       " (99, 'Ann', 'Banks', 'F', 'free'),\n",
       " (98, 'Jordyn', 'Powell', 'F', 'free'),\n",
       " (97, 'Kate', 'Harrell', 'F', 'paid')]"
      ]
     },
     "metadata": {},
     "execution_count": 58
    }
   ],
   "source": [
    "cur.execute('SELECT * FROM users ORDER BY users.user_id DESC LIMIT 5;')\n",
    "results = cur.fetchall()\n",
    "results"
   ]
  },
  {
   "cell_type": "code",
   "execution_count": 59,
   "metadata": {},
   "outputs": [
    {
     "output_type": "execute_result",
     "data": {
      "text/plain": [
       "[('SOAOIBZ12AB01815BE',\n",
       "  'I Hold Your Hand In Mine [Live At Royal Albert Hall]',\n",
       "  'ARPBNLO1187FB3D52F',\n",
       "  2000,\n",
       "  43.36281),\n",
       " ('SOBAYLL12A8C138AF9',\n",
       "  'Sono andati? Fingevo di dormire',\n",
       "  'ARDR4AC1187FB371A1',\n",
       "  0,\n",
       "  511.16364),\n",
       " ('SOBBUGU12A8C13E95D',\n",
       "  'Setting Fire to Sleeping Giants',\n",
       "  'ARMAC4T1187FB3FA4C',\n",
       "  2004,\n",
       "  207.77751),\n",
       " ('SOBBXLX12A58A79DDA',\n",
       "  'Erica (2005 Digital Remaster)',\n",
       "  'AREDBBQ1187B98AFF5',\n",
       "  0,\n",
       "  138.63138),\n",
       " ('SOBCOSW12A8C13D398',\n",
       "  'Rumba De Barcelona',\n",
       "  'AR7SMBG1187B9B9066',\n",
       "  0,\n",
       "  218.38322)]"
      ]
     },
     "metadata": {},
     "execution_count": 59
    }
   ],
   "source": [
    "cur.execute('SELECT * FROM songs ORDER BY songs.song_id ASC LIMIT 5;')\n",
    "results = cur.fetchall()\n",
    "results"
   ]
  },
  {
   "cell_type": "code",
   "execution_count": 60,
   "metadata": {},
   "outputs": [
    {
     "output_type": "execute_result",
     "data": {
      "text/plain": [
       "[('SOZVMJI12AB01808AF', 'Synthetic Dream', 'ARNPAGP1241B9C7FD4', 0, 165.69424),\n",
       " ('SOZQDIU12A58A7BCF6',\n",
       "  'Superconfidential',\n",
       "  'ARNTLGG11E2835DDB9',\n",
       "  0,\n",
       "  338.31137),\n",
       " ('SOZHPGD12A8C1394FE', 'Baby Come To Me', 'AR9AWNF1187B9AB0B4', 0, 236.93016),\n",
       " ('SOZCTXZ12AB0182364', 'Setanta matins', 'AR5KOSW1187FB35FF4', 0, 269.58322),\n",
       " ('SOYTPEP12AB0180E7B',\n",
       "  'Twist and Shout',\n",
       "  'ARAJPHH1187FB5566A',\n",
       "  1964,\n",
       "  164.80608)]"
      ]
     },
     "metadata": {},
     "execution_count": 60
    }
   ],
   "source": [
    "cur.execute('SELECT * FROM songs ORDER BY songs.song_id DESC LIMIT 5;')\n",
    "results = cur.fetchall()\n",
    "results"
   ]
  },
  {
   "cell_type": "code",
   "execution_count": 61,
   "metadata": {},
   "outputs": [
    {
     "output_type": "execute_result",
     "data": {
      "text/plain": [
       "[('AR051KA1187B98B2FF', 'Wilks', '', None, None),\n",
       " ('AR0IAWL1187B9A96D0', 'Danilo Perez', 'Panama', 8.4177, -80.11278),\n",
       " ('AR0RCMP1187FB3F427',\n",
       "  'Billie Jo Spears',\n",
       "  'Beaumont, TX',\n",
       "  30.08615,\n",
       "  -94.10158),\n",
       " ('AR10USD1187B99F3F1',\n",
       "  'Tweeterfriendly Music',\n",
       "  'Burlington, Ontario, Canada',\n",
       "  None,\n",
       "  None),\n",
       " ('AR1Y2PT1187FB5B9CE', 'John Wesley', 'Brandon', 27.94017, -82.32547)]"
      ]
     },
     "metadata": {},
     "execution_count": 61
    }
   ],
   "source": [
    "cur.execute('SELECT * FROM artists ORDER BY artists.artist_id ASC LIMIT 5;')\n",
    "results = cur.fetchall()\n",
    "results"
   ]
  },
  {
   "cell_type": "code",
   "execution_count": 62,
   "metadata": {},
   "outputs": [
    {
     "output_type": "execute_result",
     "data": {
      "text/plain": [
       "[('AR051KA1187B98B2FF', 'Wilks', '', None, None),\n",
       " ('AR0IAWL1187B9A96D0', 'Danilo Perez', 'Panama', 8.4177, -80.11278),\n",
       " ('AR0RCMP1187FB3F427',\n",
       "  'Billie Jo Spears',\n",
       "  'Beaumont, TX',\n",
       "  30.08615,\n",
       "  -94.10158),\n",
       " ('AR10USD1187B99F3F1',\n",
       "  'Tweeterfriendly Music',\n",
       "  'Burlington, Ontario, Canada',\n",
       "  None,\n",
       "  None),\n",
       " ('AR1Y2PT1187FB5B9CE', 'John Wesley', 'Brandon', 27.94017, -82.32547)]"
      ]
     },
     "metadata": {},
     "execution_count": 62
    }
   ],
   "source": [
    "cur.execute('SELECT * FROM artists ORDER BY artists.artist_id ASC LIMIT 5;')\n",
    "results = cur.fetchall()\n",
    "results"
   ]
  },
  {
   "cell_type": "code",
   "execution_count": 63,
   "metadata": {},
   "outputs": [
    {
     "output_type": "execute_result",
     "data": {
      "text/plain": [
       "[(datetime.datetime(2018, 11, 1, 21, 1, 46, 796000),\n",
       "  21.0,\n",
       "  1.0,\n",
       "  44.0,\n",
       "  11.0,\n",
       "  2018.0,\n",
       "  3.0),\n",
       " (datetime.datetime(2018, 11, 1, 21, 5, 52, 796000),\n",
       "  21.0,\n",
       "  1.0,\n",
       "  44.0,\n",
       "  11.0,\n",
       "  2018.0,\n",
       "  3.0),\n",
       " (datetime.datetime(2018, 11, 1, 21, 8, 16, 796000),\n",
       "  21.0,\n",
       "  1.0,\n",
       "  44.0,\n",
       "  11.0,\n",
       "  2018.0,\n",
       "  3.0),\n",
       " (datetime.datetime(2018, 11, 1, 21, 11, 13, 796000),\n",
       "  21.0,\n",
       "  1.0,\n",
       "  44.0,\n",
       "  11.0,\n",
       "  2018.0,\n",
       "  3.0),\n",
       " (datetime.datetime(2018, 11, 1, 21, 17, 33, 796000),\n",
       "  21.0,\n",
       "  1.0,\n",
       "  44.0,\n",
       "  11.0,\n",
       "  2018.0,\n",
       "  3.0)]"
      ]
     },
     "metadata": {},
     "execution_count": 63
    }
   ],
   "source": [
    "cur.execute('SELECT * FROM time ORDER BY time.start_time ASC LIMIT 5;')\n",
    "results = cur.fetchall()\n",
    "results"
   ]
  },
  {
   "cell_type": "code",
   "execution_count": 64,
   "metadata": {},
   "outputs": [
    {
     "output_type": "execute_result",
     "data": {
      "text/plain": [
       "[(datetime.datetime(2018, 11, 30, 19, 54, 24, 796000),\n",
       "  19.0,\n",
       "  30.0,\n",
       "  48.0,\n",
       "  11.0,\n",
       "  2018.0,\n",
       "  4.0),\n",
       " (datetime.datetime(2018, 11, 30, 18, 51, 24, 796000),\n",
       "  18.0,\n",
       "  30.0,\n",
       "  48.0,\n",
       "  11.0,\n",
       "  2018.0,\n",
       "  4.0),\n",
       " (datetime.datetime(2018, 11, 30, 18, 47, 58, 796000),\n",
       "  18.0,\n",
       "  30.0,\n",
       "  48.0,\n",
       "  11.0,\n",
       "  2018.0,\n",
       "  4.0),\n",
       " (datetime.datetime(2018, 11, 30, 18, 44, 36, 796000),\n",
       "  18.0,\n",
       "  30.0,\n",
       "  48.0,\n",
       "  11.0,\n",
       "  2018.0,\n",
       "  4.0),\n",
       " (datetime.datetime(2018, 11, 30, 18, 40, 5, 796000),\n",
       "  18.0,\n",
       "  30.0,\n",
       "  48.0,\n",
       "  11.0,\n",
       "  2018.0,\n",
       "  4.0)]"
      ]
     },
     "metadata": {},
     "execution_count": 64
    }
   ],
   "source": [
    "cur.execute('SELECT * FROM time ORDER BY time.start_time DESC LIMIT 5;')\n",
    "results = cur.fetchall()\n",
    "results"
   ]
  },
  {
   "cell_type": "markdown",
   "metadata": {},
   "source": [
    "## REMEMBER: Restart this notebook to close connection to `sparkifydb`\n",
    "Each time you run the cells above, remember to restart this notebook to close the connection to your database. Otherwise, you won't be able to run your code in `create_tables.py`, `etl.py`, or `etl.ipynb` files since you can't make multiple connections to the same database (in this case, sparkifydb)."
   ]
  },
  {
   "cell_type": "code",
   "execution_count": 65,
   "metadata": {},
   "outputs": [],
   "source": [
    "conn.close()"
   ]
  },
  {
   "cell_type": "code",
   "execution_count": null,
   "metadata": {},
   "outputs": [],
   "source": []
  }
 ],
 "metadata": {
  "kernelspec": {
   "display_name": "Python 3",
   "language": "python",
   "name": "python3"
  },
  "language_info": {
   "codemirror_mode": {
    "name": "ipython",
    "version": 3
   },
   "file_extension": ".py",
   "mimetype": "text/x-python",
   "name": "python",
   "nbconvert_exporter": "python",
   "pygments_lexer": "ipython3",
   "version": "3.7.10"
  }
 },
 "nbformat": 4,
 "nbformat_minor": 2
}